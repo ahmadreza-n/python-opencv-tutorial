{
 "nbformat": 4,
 "nbformat_minor": 2,
 "metadata": {
  "language_info": {
   "name": "python",
   "codemirror_mode": {
    "name": "ipython",
    "version": 3
   },
   "version": "3.7.4-final"
  },
  "orig_nbformat": 2,
  "file_extension": ".py",
  "mimetype": "text/x-python",
  "name": "python",
  "npconvert_exporter": "python",
  "pygments_lexer": "ipython3",
  "version": 3,
  "kernelspec": {
   "name": "python37464bitbaseconda5d0d60e8fb1b40e19c266138581e52b4",
   "display_name": "Python 3.7.4 64-bit ('base': conda)"
  }
 },
 "cells": [
  {
   "cell_type": "code",
   "execution_count": 1,
   "metadata": {},
   "outputs": [],
   "source": [
    "import cv2\n",
    "import numpy as np\n",
    "\n",
    "cap = cv2.VideoCapture(0)\n",
    "\n",
    "while True:\n",
    "  _, frame = cap.read()\n",
    "  \n",
    "  laplacian = cv2.Laplacian(frame, cv2.CV_64F)\n",
    "  sobelx = cv2.Sobel(frame, cv2.CV_64F, 1, 0, ksize=5)\n",
    "  sobely = cv2.Sobel(frame, cv2.CV_64F, 0, 1, ksize=5)\n",
    "  edges = cv2.Canny(frame, 80, 100)\n",
    "\n",
    "  cv2.imshow('Original', frame)\n",
    "  cv2.imshow('Laplacian', laplacian)\n",
    "  cv2.imshow('Sobelx', sobelx)\n",
    "  cv2.imshow('Sobely', sobely)\n",
    "  cv2.imshow('Edges', edges)\n",
    "\n",
    "  k = cv2.waitKey(5) & 0xFF\n",
    "  if k == 27:\n",
    "    break\n",
    "\n",
    "cv2.destroyAllWindows()\n",
    "cap.release()"
   ]
  }
 ]
}