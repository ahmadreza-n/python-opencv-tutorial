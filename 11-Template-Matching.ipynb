{
 "nbformat": 4,
 "nbformat_minor": 2,
 "metadata": {
  "language_info": {
   "name": "python",
   "codemirror_mode": {
    "name": "ipython",
    "version": 3
   },
   "version": "3.7.4-final"
  },
  "orig_nbformat": 2,
  "file_extension": ".py",
  "mimetype": "text/x-python",
  "name": "python",
  "npconvert_exporter": "python",
  "pygments_lexer": "ipython3",
  "version": 3,
  "kernelspec": {
   "name": "python37464bitbaseconda5d0d60e8fb1b40e19c266138581e52b4",
   "display_name": "Python 3.7.4 64-bit ('base': conda)"
  }
 },
 "cells": [
  {
   "cell_type": "code",
   "execution_count": 2,
   "metadata": {},
   "outputs": [],
   "source": [
    "import cv2\n",
    "import numpy as np\n",
    "\n",
    "img_bgr = cv2.imread('./www/template-matching.jpg')\n",
    "img_gray = cv2.cvtColor(img_bgr, cv2.COLOR_BGR2GRAY)\n",
    "\n",
    "template_bgr = cv2.imread('./www/template-for-matching.jpg')\n",
    "template_gray = cv2.cvtColor(template_bgr, cv2.COLOR_BGR2GRAY)\n",
    "w, h, _ = template_bgr.shape\n",
    "\n",
    "res = cv2.matchTemplate(img_gray, template_gray, cv2.TM_CCOEFF_NORMED)\n",
    "threshold = 0.8\n",
    "loc = np.where(res >= threshold)\n",
    "\n",
    "for pt in zip(*loc[::-1]):\n",
    "  cv2.rectangle(img_bgr, pt, (pt[0] + w, pt[1] + h), (0, 255, 255), 2)\n",
    "\n",
    "cv2.imshow('Detected', img_bgr)\n",
    "\n",
    "cv2.waitKey(0)\n",
    "cv2.destroyAllWindows()"
   ]
  }
 ]
}