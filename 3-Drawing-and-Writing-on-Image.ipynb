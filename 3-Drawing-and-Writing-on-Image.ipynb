{
 "nbformat": 4,
 "nbformat_minor": 2,
 "metadata": {
  "language_info": {
   "name": "python",
   "codemirror_mode": {
    "name": "ipython",
    "version": 3
   },
   "version": "3.7.4-final"
  },
  "orig_nbformat": 2,
  "file_extension": ".py",
  "mimetype": "text/x-python",
  "name": "python",
  "npconvert_exporter": "python",
  "pygments_lexer": "ipython3",
  "version": 3,
  "kernelspec": {
   "name": "python37464bitbaseconda5d0d60e8fb1b40e19c266138581e52b4",
   "display_name": "Python 3.7.4 64-bit ('base': conda)"
  }
 },
 "cells": [
  {
   "cell_type": "code",
   "execution_count": 1,
   "metadata": {},
   "outputs": [],
   "source": [
    "import cv2\n",
    "import numpy as np\n",
    "\n",
    "img = cv2.imread('./www/watch.jpg', cv2.IMREAD_COLOR)\n",
    "\n",
    "cv2.line(img, (0, 0), (150, 150), (255, 0, 0), 15)\n",
    "cv2.rectangle(img, (15, 15), (200, 150), (0, 255, 0), 5)\n",
    "cv2.circle(img, (100, 100), 55, (0, 0, 255), -1)\n",
    "\n",
    "pts = np.array([[10, 5], [20, 30], [70, 20], [50, 10]], np.int32)\n",
    "pts = pts.reshape([-1, 1, 2])\n",
    "cv2.polylines(img, [pts], True, (255, 255, 255), 3)\n",
    "\n",
    "font = cv2.FONT_HERSHEY_COMPLEX\n",
    "cv2.putText(img, 'Fuck', (0, 130), font, 1, (200, 255, 255), 1, cv2.LINE_AA)\n",
    "\n",
    "cv2.imshow('image', img)\n",
    "cv2.waitKey(0)\n",
    "cv2.destroyAllWindows()"
   ]
  }
 ]
}