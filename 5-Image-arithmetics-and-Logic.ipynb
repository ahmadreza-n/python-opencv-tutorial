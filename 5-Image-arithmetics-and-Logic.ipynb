{
 "nbformat": 4,
 "nbformat_minor": 2,
 "metadata": {
  "language_info": {
   "name": "python",
   "codemirror_mode": {
    "name": "ipython",
    "version": 3
   },
   "version": "3.7.4-final"
  },
  "orig_nbformat": 2,
  "file_extension": ".py",
  "mimetype": "text/x-python",
  "name": "python",
  "npconvert_exporter": "python",
  "pygments_lexer": "ipython3",
  "version": 3,
  "kernelspec": {
   "name": "python37464bitbaseconda5d0d60e8fb1b40e19c266138581e52b4",
   "display_name": "Python 3.7.4 64-bit ('base': conda)"
  }
 },
 "cells": [
  {
   "cell_type": "code",
   "execution_count": 1,
   "metadata": {},
   "outputs": [],
   "source": [
    "import cv2\n",
    "\n",
    "img1 = cv2.imread('./www/3D-Matplotlib.png')\n",
    "img2 = cv2.imread('./www/mainsvmimage.png')\n",
    "\n",
    "add = img1 + img2\n",
    "\n",
    "cv2.imshow('add', add)\n",
    "cv2.waitKey(0)\n",
    "cv2.destroyAllWindows()"
   ]
  },
  {
   "cell_type": "code",
   "execution_count": 2,
   "metadata": {},
   "outputs": [],
   "source": [
    "add = cv2.add(img1, img2)\n",
    "cv2.imshow('add', add)\n",
    "cv2.waitKey(0)\n",
    "cv2.destroyAllWindows()"
   ]
  },
  {
   "cell_type": "code",
   "execution_count": 3,
   "metadata": {},
   "outputs": [],
   "source": [
    "weighted = cv2.addWeighted(img1, 0.6, img2, 0.4, 0)\n",
    "cv2.imshow('weighted', weighted)\n",
    "cv2.waitKey(0)\n",
    "cv2.destroyAllWindows()"
   ]
  },
  {
   "cell_type": "code",
   "execution_count": 4,
   "metadata": {},
   "outputs": [],
   "source": [
    "img3 = cv2.imread('./www/mainlogo.png')\n",
    "rows, cols, channels = img3.shape\n",
    "roi = img1[0:rows, 0:cols]\n",
    "\n",
    "img3gray = cv2.cvtColor(img3, cv2.COLOR_BGR2GRAY)\n",
    "ret, mask = cv2.threshold(img3gray, 220, 255, cv2.THRESH_BINARY_INV)\n",
    "mask_inv = cv2.bitwise_not(mask)\n",
    "\n",
    "img1_bg = cv2.bitwise_and(roi, roi, mask=mask_inv)\n",
    "img3_fg = cv2.bitwise_and(img3, img3, mask=mask)\n",
    "\n",
    "dst = cv2.add(img1_bg, img3_fg)\n",
    "img1[0:rows, 0:cols] = dst\n",
    "\n",
    "cv2.imshow('res',img1)\n",
    "cv2.waitKey(0)\n",
    "cv2.destroyAllWindows()"
   ]
  }
 ]
}