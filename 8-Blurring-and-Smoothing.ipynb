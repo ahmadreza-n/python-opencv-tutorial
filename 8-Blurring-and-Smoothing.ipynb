{
 "nbformat": 4,
 "nbformat_minor": 2,
 "metadata": {
  "language_info": {
   "name": "python",
   "codemirror_mode": {
    "name": "ipython",
    "version": 3
   },
   "version": "3.7.4-final"
  },
  "orig_nbformat": 2,
  "file_extension": ".py",
  "mimetype": "text/x-python",
  "name": "python",
  "npconvert_exporter": "python",
  "pygments_lexer": "ipython3",
  "version": 3,
  "kernelspec": {
   "name": "python37464bitbaseconda5d0d60e8fb1b40e19c266138581e52b4",
   "display_name": "Python 3.7.4 64-bit ('base': conda)"
  }
 },
 "cells": [
  {
   "cell_type": "code",
   "execution_count": 1,
   "metadata": {},
   "outputs": [],
   "source": [
    "import cv2\n",
    "import numpy as np\n",
    "\n",
    "cap = cv2.VideoCapture(0)\n",
    "\n",
    "while True:\n",
    "  _, frame = cap.read()\n",
    "  hsv = cv2.cvtColor(frame, cv2.COLOR_BGR2HSV)\n",
    "\n",
    "  lower_red = np.array([0, 100, 100])\n",
    "  upper_red = np.array([179, 255, 255])\n",
    "\n",
    "  mask = cv2.inRange(hsv, lower_red, upper_red)\n",
    "  res = cv2.bitwise_and(frame, frame, mask=mask)\n",
    "\n",
    "  kernel = np.ones((15, 15), np.float32) / 255\n",
    "  smoothed = cv2.filter2D(res, -1, kernel)\n",
    "\n",
    "  blur = cv2.GaussianBlur(res, (15, 15), 0)\n",
    "\n",
    "  median = cv2.medianBlur(res, 15)\n",
    "\n",
    "  bilateral = cv2.bilateralFilter(res, 15, 75, 75)\n",
    "\n",
    "  cv2.imshow('Frame', frame)\n",
    "  cv2.imshow('Mask', mask)\n",
    "  cv2.imshow('Res', res)\n",
    "  cv2.imshow('Smoothed', smoothed)\n",
    "  cv2.imshow('Blur', blur)\n",
    "  cv2.imshow('Median', median)\n",
    "  cv2.imshow('Bilateral', bilateral)\n",
    "\n",
    "  k = cv2.waitKey(5) & 0xFF\n",
    "  if k == 27:\n",
    "    break\n",
    "\n",
    "cv2.destroyAllWindows()\n",
    "cap.release()\n"
   ]
  }
 ]
}