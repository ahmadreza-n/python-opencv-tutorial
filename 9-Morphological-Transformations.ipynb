{
 "nbformat": 4,
 "nbformat_minor": 2,
 "metadata": {
  "language_info": {
   "name": "python",
   "codemirror_mode": {
    "name": "ipython",
    "version": 3
   },
   "version": "3.7.4-final"
  },
  "orig_nbformat": 2,
  "file_extension": ".py",
  "mimetype": "text/x-python",
  "name": "python",
  "npconvert_exporter": "python",
  "pygments_lexer": "ipython3",
  "version": 3,
  "kernelspec": {
   "name": "python37464bitbaseconda5d0d60e8fb1b40e19c266138581e52b4",
   "display_name": "Python 3.7.4 64-bit ('base': conda)"
  }
 },
 "cells": [
  {
   "cell_type": "code",
   "execution_count": 1,
   "metadata": {},
   "outputs": [],
   "source": [
    "import cv2\n",
    "import numpy as np\n",
    "\n",
    "cap = cv2.VideoCapture(0)\n",
    "\n",
    "while True:\n",
    "  _, frame = cap.read()\n",
    "  hsv = cv2.cvtColor(frame, cv2.COLOR_BGR2HSV)\n",
    "\n",
    "  lower_red = np.array([0, 100, 100])\n",
    "  upper_red = np.array([179, 255, 255])\n",
    "\n",
    "  mask = cv2.inRange(hsv, lower_red, upper_red)\n",
    "  res = cv2.bitwise_and(frame, frame, mask=mask)\n",
    "\n",
    "  kernel = np.ones((5, 5), np.uint8)\n",
    "\n",
    "  erosion = cv2.erode(mask, kernel, iterations = 1)\n",
    "  erosionRes = cv2.bitwise_and(frame, frame, mask=erosion)\n",
    "\n",
    "  dilation = cv2.dilate(mask, kernel, iterations = 1)\n",
    "  dilationRes = cv2.bitwise_and(frame, frame, mask=dilation)\n",
    "\n",
    "  opening = cv2.morphologyEx(mask, cv2.MORPH_OPEN, kernel)\n",
    "  openingRes = cv2.bitwise_and(frame, frame, mask=opening)\n",
    "\n",
    "  closing = cv2.morphologyEx(mask, cv2.MORPH_CLOSE, kernel)\n",
    "  closingRes = cv2.bitwise_and(frame, frame, mask=closing)\n",
    "\n",
    "  cv2.imshow('Frame', frame)\n",
    "  cv2.imshow('Res', res)\n",
    "  cv2.imshow('Maks', mask)\n",
    "  cv2.imshow('Erosion', erosion)\n",
    "  cv2.imshow('Erosion res', erosionRes)\n",
    "  cv2.imshow('Dilation', dilation)\n",
    "  cv2.imshow('Dilation res', dilationRes)\n",
    "  cv2.imshow('Opening', opening)\n",
    "  cv2.imshow('Opening res', openingRes)\n",
    "  cv2.imshow('Closing', closing)\n",
    "  cv2.imshow('Closing res', closingRes)\n",
    "\n",
    "  k = cv2.waitKey(5) & 0xFF\n",
    "  if k == 27:\n",
    "    break\n",
    "\n",
    "cv2.destroyAllWindows()\n",
    "cap.release()\n"
   ]
  }
 ]
}